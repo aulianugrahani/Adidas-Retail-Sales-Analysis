{
 "cells": [
  {
   "cell_type": "markdown",
   "id": "215e9a20",
   "metadata": {},
   "source": [
    "# DATA VALIDATIONS - GREAT EXPECTATIONS"
   ]
  },
  {
   "cell_type": "markdown",
   "id": "540fe145",
   "metadata": {},
   "source": [
    "================================================\n",
    "\n",
    "\n",
    "Milestone 3 - Data Validation with Great Expectations (GX)\n",
    "\n",
    "\n",
    "Name  : Aulia Putri Nugrahani              \n",
    "\n",
    "              \n",
    "Batch : FTDS-029-HCK\n",
    "\n",
    "In this notebook, we will perform data validation tests using Python's Great Expectations (GX) library.  \n",
    "This step helps ensure that the cleaned dataset meets the expected data quality standards before moving on to analysis or modeling.\n",
    "We will use the cleaned dataset that was prepared earlier in this project.\n",
    "\n",
    "Dataset path: airflow/data/P2M3_Aulia-Putri_data_cleaned.csv\n",
    "\n",
    "================================================\n",
    "\n"
   ]
  },
  {
   "cell_type": "code",
   "execution_count": 2,
   "id": "e2197d73",
   "metadata": {},
   "outputs": [],
   "source": [
    "# Installing Great Expectations\n",
    "!pip install -q \"great-expectations==0.18.19\""
   ]
  },
  {
   "cell_type": "code",
   "execution_count": null,
   "id": "f23e9954",
   "metadata": {},
   "outputs": [],
   "source": [
    "# import libraries\n",
    "from great_expectations.data_context import FileDataContext"
   ]
  },
  {
   "cell_type": "markdown",
   "id": "8413b948",
   "metadata": {},
   "source": [
    "# 1. Creating Data Context"
   ]
  },
  {
   "cell_type": "markdown",
   "id": "8c647c4b",
   "metadata": {},
   "source": [
    "A Data Context is the main configuration hub in a Great Expectations (GX) project. It manages datasources, expectations, validations, and stores all project settings.\n",
    "\n",
    "This step initializes the context so we can start building and running data validations."
   ]
  },
  {
   "cell_type": "code",
   "execution_count": 4,
   "id": "b932707f",
   "metadata": {},
   "outputs": [],
   "source": [
    "# Create a data context\n",
    "\n",
    "context = FileDataContext.create(project_root_dir='./')"
   ]
  },
  {
   "cell_type": "markdown",
   "id": "73c6539c",
   "metadata": {},
   "source": [
    "# 2. Connecting to Data Source"
   ]
  },
  {
   "cell_type": "code",
   "execution_count": 5,
   "id": "3b6cba4a",
   "metadata": {},
   "outputs": [],
   "source": [
    "# Give a name to a Datasource. This name must be unique between Datasources.\n",
    "datasource_name = 'adidas-sales-data'\n",
    "datasource = context.sources.add_pandas(datasource_name)\n",
    "\n",
    "# Give a name to a data asset\n",
    "asset_name = 'adidas-sales'\n",
    "path_to_data = 'P2M3_Aulia-Putri_data_cleaned.csv'\n",
    "asset = datasource.add_csv_asset(asset_name, filepath_or_buffer=path_to_data)\n",
    "\n",
    "# Build batch request\n",
    "batch_request = asset.build_batch_request()"
   ]
  },
  {
   "cell_type": "markdown",
   "id": "3ccd3ec8",
   "metadata": {},
   "source": [
    "# 3. Create an Expectation Suite "
   ]
  },
  {
   "cell_type": "code",
   "execution_count": 6,
   "id": "5f0c98bf",
   "metadata": {},
   "outputs": [
    {
     "data": {
      "application/vnd.jupyter.widget-view+json": {
       "model_id": "f53d3a074bdc4b1ba6599800b0815d23",
       "version_major": 2,
       "version_minor": 0
      },
      "text/plain": [
       "Calculating Metrics:   0%|          | 0/1 [00:00<?, ?it/s]"
      ]
     },
     "metadata": {},
     "output_type": "display_data"
    },
    {
     "data": {
      "text/html": [
       "<div>\n",
       "<style scoped>\n",
       "    .dataframe tbody tr th:only-of-type {\n",
       "        vertical-align: middle;\n",
       "    }\n",
       "\n",
       "    .dataframe tbody tr th {\n",
       "        vertical-align: top;\n",
       "    }\n",
       "\n",
       "    .dataframe thead th {\n",
       "        text-align: right;\n",
       "    }\n",
       "</style>\n",
       "<table border=\"1\" class=\"dataframe\">\n",
       "  <thead>\n",
       "    <tr style=\"text-align: right;\">\n",
       "      <th></th>\n",
       "      <th>retailer</th>\n",
       "      <th>retailer_id</th>\n",
       "      <th>invoice_date</th>\n",
       "      <th>region</th>\n",
       "      <th>state</th>\n",
       "      <th>city</th>\n",
       "      <th>product</th>\n",
       "      <th>price_per_unit</th>\n",
       "      <th>units_sold</th>\n",
       "      <th>total_sales</th>\n",
       "      <th>operating_profit</th>\n",
       "      <th>operating_margin</th>\n",
       "      <th>sales_method</th>\n",
       "    </tr>\n",
       "  </thead>\n",
       "  <tbody>\n",
       "    <tr>\n",
       "      <th>0</th>\n",
       "      <td>Foot Locker</td>\n",
       "      <td>1185732</td>\n",
       "      <td>2020-01-01</td>\n",
       "      <td>Northeast</td>\n",
       "      <td>New York</td>\n",
       "      <td>New York</td>\n",
       "      <td>Men's Street Footwear</td>\n",
       "      <td>50.0</td>\n",
       "      <td>1200</td>\n",
       "      <td>600000.0</td>\n",
       "      <td>300000.0</td>\n",
       "      <td>0.50</td>\n",
       "      <td>In-store</td>\n",
       "    </tr>\n",
       "    <tr>\n",
       "      <th>1</th>\n",
       "      <td>Foot Locker</td>\n",
       "      <td>1185732</td>\n",
       "      <td>2020-01-02</td>\n",
       "      <td>Northeast</td>\n",
       "      <td>New York</td>\n",
       "      <td>New York</td>\n",
       "      <td>Men's Athletic Footwear</td>\n",
       "      <td>50.0</td>\n",
       "      <td>1000</td>\n",
       "      <td>500000.0</td>\n",
       "      <td>150000.0</td>\n",
       "      <td>0.30</td>\n",
       "      <td>In-store</td>\n",
       "    </tr>\n",
       "    <tr>\n",
       "      <th>2</th>\n",
       "      <td>Foot Locker</td>\n",
       "      <td>1185732</td>\n",
       "      <td>2020-01-04</td>\n",
       "      <td>Northeast</td>\n",
       "      <td>New York</td>\n",
       "      <td>New York</td>\n",
       "      <td>Women's Athletic Footwear</td>\n",
       "      <td>45.0</td>\n",
       "      <td>850</td>\n",
       "      <td>382500.0</td>\n",
       "      <td>133875.0</td>\n",
       "      <td>0.35</td>\n",
       "      <td>In-store</td>\n",
       "    </tr>\n",
       "    <tr>\n",
       "      <th>3</th>\n",
       "      <td>Foot Locker</td>\n",
       "      <td>1185732</td>\n",
       "      <td>2020-01-05</td>\n",
       "      <td>Northeast</td>\n",
       "      <td>New York</td>\n",
       "      <td>New York</td>\n",
       "      <td>Men's Apparel</td>\n",
       "      <td>60.0</td>\n",
       "      <td>900</td>\n",
       "      <td>540000.0</td>\n",
       "      <td>162000.0</td>\n",
       "      <td>0.30</td>\n",
       "      <td>In-store</td>\n",
       "    </tr>\n",
       "    <tr>\n",
       "      <th>4</th>\n",
       "      <td>Foot Locker</td>\n",
       "      <td>1185732</td>\n",
       "      <td>2020-01-06</td>\n",
       "      <td>Northeast</td>\n",
       "      <td>New York</td>\n",
       "      <td>New York</td>\n",
       "      <td>Women's Apparel</td>\n",
       "      <td>50.0</td>\n",
       "      <td>1000</td>\n",
       "      <td>500000.0</td>\n",
       "      <td>125000.0</td>\n",
       "      <td>0.25</td>\n",
       "      <td>In-store</td>\n",
       "    </tr>\n",
       "  </tbody>\n",
       "</table>\n",
       "</div>"
      ],
      "text/plain": [
       "      retailer  retailer_id invoice_date     region     state      city  \\\n",
       "0  Foot Locker      1185732   2020-01-01  Northeast  New York  New York   \n",
       "1  Foot Locker      1185732   2020-01-02  Northeast  New York  New York   \n",
       "2  Foot Locker      1185732   2020-01-04  Northeast  New York  New York   \n",
       "3  Foot Locker      1185732   2020-01-05  Northeast  New York  New York   \n",
       "4  Foot Locker      1185732   2020-01-06  Northeast  New York  New York   \n",
       "\n",
       "                     product  price_per_unit  units_sold  total_sales  \\\n",
       "0      Men's Street Footwear            50.0        1200     600000.0   \n",
       "1    Men's Athletic Footwear            50.0        1000     500000.0   \n",
       "2  Women's Athletic Footwear            45.0         850     382500.0   \n",
       "3              Men's Apparel            60.0         900     540000.0   \n",
       "4            Women's Apparel            50.0        1000     500000.0   \n",
       "\n",
       "   operating_profit  operating_margin sales_method  \n",
       "0          300000.0              0.50     In-store  \n",
       "1          150000.0              0.30     In-store  \n",
       "2          133875.0              0.35     In-store  \n",
       "3          162000.0              0.30     In-store  \n",
       "4          125000.0              0.25     In-store  "
      ]
     },
     "execution_count": 6,
     "metadata": {},
     "output_type": "execute_result"
    }
   ],
   "source": [
    "# Creat an expectation suite\n",
    "expectation_suite_name = 'expectation-adidas-sales-dataset'\n",
    "context.add_or_update_expectation_suite(expectation_suite_name)\n",
    "\n",
    "# Create a validator using above expectation suite\n",
    "validator = context.get_validator(\n",
    "    batch_request = batch_request,\n",
    "    expectation_suite_name = expectation_suite_name\n",
    ")\n",
    "\n",
    "# Check the validator\n",
    "validator.head()"
   ]
  },
  {
   "cell_type": "markdown",
   "id": "5047a5ca",
   "metadata": {},
   "source": [
    "# 4.Expectations"
   ]
  },
  {
   "cell_type": "markdown",
   "id": "bfca23af",
   "metadata": {},
   "source": [
    "## 4.1. Expectations 1: To Be Unique"
   ]
  },
  {
   "cell_type": "markdown",
   "id": "ee0cb2d7",
   "metadata": {},
   "source": [
    "In this dataset, no single column has completely unique values for each row. To solve this, we created a new column called invoice_key. This key is built by combining several pieces of information:\n",
    "\n",
    "1. The first letter of the retailer name\n",
    "\n",
    "2. The retailer ID\n",
    "\n",
    "3. A short code for the city\n",
    "\n",
    "4. The invoice date (without dashes)\n",
    "\n",
    "5. A code representing the product\n",
    "\n",
    "6. The first letter of the sales method\n",
    "\n",
    "7. The operating margin (converted to 3 digits without the dot)\n",
    "\n",
    "By putting all of these together, we aim to create a unique identifier for each transaction in the dataset.\n"
   ]
  },
  {
   "cell_type": "markdown",
   "id": "d6b0818d",
   "metadata": {},
   "source": [
    "### A. Adding Invoice Key Column"
   ]
  },
  {
   "cell_type": "markdown",
   "id": "2ea88b28",
   "metadata": {},
   "source": [
    "To perform data validation, we first need to access the actual data. Great Expectations stores the data in what's called a \"batch.\" Here, we're extracting the active batch from the validator and converting it into a regular Pandas DataFrame so we can create a new column."
   ]
  },
  {
   "cell_type": "code",
   "execution_count": 7,
   "id": "cbb8d59c",
   "metadata": {},
   "outputs": [],
   "source": [
    "# Extract the dataframe from validator\n",
    "df = validator.active_batch.data.dataframe\n"
   ]
  },
  {
   "cell_type": "markdown",
   "id": "c4e7303d",
   "metadata": {},
   "source": [
    "#### Step 1: Creating State Code"
   ]
  },
  {
   "cell_type": "markdown",
   "id": "f8ed62cf",
   "metadata": {},
   "source": [
    "For the next step, we're going to create a dictionary that maps full U.S. state names to their corresponding standard two-letter abbreviations (state codes). These abbreviations are widely used in datasets to ensure consistency and reduce redundancy.\n",
    "\n",
    "We then use this mapping to generate a new column called state_code, which will be used later in constructing a unique and standardized invoice_key.\n",
    "\n",
    "The list of state abbreviations follows the official format published by the Federal Aviation Administration (FAA), available at: https://www.faa.gov/air_traffic/publications/atpubs/cnt_html/appendix_a.html"
   ]
  },
  {
   "cell_type": "code",
   "execution_count": 8,
   "id": "b7cbbd80",
   "metadata": {},
   "outputs": [],
   "source": [
    "# Create State Code Map\n",
    "state_code_map = {\n",
    "    \"Alabama\": \"AL\",\n",
    "    \"Alaska\": \"AK\",\n",
    "    \"Arizona\": \"AZ\",\n",
    "    \"Arkansas\": \"AR\",\n",
    "    \"California\": \"CA\",\n",
    "    \"Colorado\": \"CO\",\n",
    "    \"Connecticut\": \"CT\",\n",
    "    \"Delaware\": \"DE\",\n",
    "    \"Florida\": \"FL\",\n",
    "    \"Georgia\": \"GA\",\n",
    "    \"Hawaii\": \"HI\",\n",
    "    \"Idaho\": \"ID\",\n",
    "    \"Illinois\": \"IL\",\n",
    "    \"Indiana\": \"IN\",\n",
    "    \"Iowa\": \"IA\",\n",
    "    \"Kansas\": \"KS\",\n",
    "    \"Kentucky\": \"KY\",\n",
    "    \"Louisiana\": \"LA\",\n",
    "    \"Maine\": \"ME\",\n",
    "    \"Maryland\": \"MD\",\n",
    "    \"Massachusetts\": \"MA\",\n",
    "    \"Michigan\": \"MI\",\n",
    "    \"Minnesota\": \"MN\",\n",
    "    \"Mississippi\": \"MS\",\n",
    "    \"Missouri\": \"MO\",\n",
    "    \"Montana\": \"MT\",\n",
    "    \"Nebraska\": \"NE\",\n",
    "    \"Nevada\": \"NV\",\n",
    "    \"New Hampshire\": \"NH\",\n",
    "    \"New Jersey\": \"NJ\",\n",
    "    \"New Mexico\": \"NM\",\n",
    "    \"New York\": \"NY\",\n",
    "    \"North Carolina\": \"NC\",\n",
    "    \"North Dakota\": \"ND\",\n",
    "    \"Ohio\": \"OH\",\n",
    "    \"Oklahoma\": \"OK\",\n",
    "    \"Oregon\": \"OR\",\n",
    "    \"Pennsylvania\": \"PA\",\n",
    "    \"Rhode Island\": \"RI\",\n",
    "    \"South Carolina\": \"SC\",\n",
    "    \"South Dakota\": \"SD\",\n",
    "    \"Tennessee\": \"TN\",\n",
    "    \"Texas\": \"TX\",\n",
    "    \"Utah\": \"UT\",\n",
    "    \"Vermont\": \"VT\",\n",
    "    \"Virginia\": \"VA\",\n",
    "    \"Washington\": \"WA\",\n",
    "    \"West Virginia\": \"WV\",\n",
    "    \"Wisconsin\": \"WI\",\n",
    "    \"Wyoming\": \"WY\"\n",
    "}\n"
   ]
  },
  {
   "cell_type": "markdown",
   "id": "518500b0",
   "metadata": {},
   "source": [
    "After defining the state code mapping, we apply it to the state column using the .map() function. This creates a new column called state_code, which stores the two-letter abbreviation for each U.S. state. This standardization helps keep our data consistent and easier to work with for downstream processing."
   ]
  },
  {
   "cell_type": "code",
   "execution_count": 9,
   "id": "2ca2936c",
   "metadata": {},
   "outputs": [],
   "source": [
    "# Map the state column to create a new state_code column\n",
    "df[\"state_code\"] = df[\"state\"].map(state_code_map)"
   ]
  },
  {
   "cell_type": "markdown",
   "id": "a7910fa9",
   "metadata": {},
   "source": [
    "#### Step 2: Creating Product Code Mapping"
   ]
  },
  {
   "cell_type": "markdown",
   "id": "1d0a4673",
   "metadata": {},
   "source": [
    "To simplify and standardize the product column, we map each product category to a shortened code using a dictionary. This makes our data more compact and helps when generating unique identifiers such as the invoice_key."
   ]
  },
  {
   "cell_type": "code",
   "execution_count": 10,
   "id": "41a7ad4c",
   "metadata": {},
   "outputs": [],
   "source": [
    "# Define product code mapping\n",
    "product_code_map = {\n",
    "    \"Men's Street Footwear\": \"M-SF\",\n",
    "    \"Men's Athletic Footwear\": \"M-AF\",\n",
    "    \"Women's Athletic Footwear\": \"W-AF\",\n",
    "    \"Women's Street Footwear\": \"W-SF\",\n",
    "    \"Men's Apparel\": \"M-AP\",\n",
    "    \"Women's Apparel\": \"W-AP\"\n",
    "}"
   ]
  },
  {
   "cell_type": "markdown",
   "id": "286dd3f8",
   "metadata": {},
   "source": [
    "Each product name is abbreviated using the format [Gender Initial]-[Category Abbreviation] to keep it readable but concise."
   ]
  },
  {
   "cell_type": "markdown",
   "id": "2354b2fa",
   "metadata": {},
   "source": [
    "#### Step 3: Creating Invoice Key"
   ]
  },
  {
   "cell_type": "markdown",
   "id": "c5b2ab16",
   "metadata": {},
   "source": [
    "To uniquely identify each transaction, we create a new column called invoice_key. This key is constructed by combining multiple relevant fields from the dataset to ensure uniqueness and traceability."
   ]
  },
  {
   "cell_type": "code",
   "execution_count": 11,
   "id": "abd15368",
   "metadata": {},
   "outputs": [],
   "source": [
    "df[\"invoice_key\"] = (\n",
    "    df[\"retailer\"].str[:1].str.upper() +                    # First letter of retailer name\n",
    "    df[\"retailer_id\"].astype(str) + \"-\" +                   # Retailer ID\n",
    "    df[\"state_code\"] + \"-\" +                                # Mapped state code                                 \n",
    "    df[\"invoice_date\"].str.replace(\"-\", \"\") + \"-\" +         # Invoice date (formatted as YYYYMMDD)\n",
    "    df[\"product\"].map(product_code_map) + \"-\" +             # Mapped product code\n",
    "    df[\"sales_method\"].str[0].str.upper() +                 # First letter of sales method\n",
    "    df[\"operating_margin\"].astype(str).str.replace(\".\", \"\", regex=False).str.zfill(3)\n",
    ")"
   ]
  },
  {
   "cell_type": "markdown",
   "id": "c22ac6d1",
   "metadata": {},
   "source": [
    "Sometimes, the invoice_key column may have duplicate values. To ensure each invoice key is unique, we group the data by invoice_key and add a count suffix (_0, _1, _2,) to duplicates using the cumcount() function. This way, each row has a distinct invoice key for accurate identification."
   ]
  },
  {
   "cell_type": "code",
   "execution_count": 12,
   "id": "1e5ef360",
   "metadata": {},
   "outputs": [],
   "source": [
    "df[\"invoice_key\"] = (\n",
    "    df[\"invoice_key\"] + \"_\" +\n",
    "    df.groupby(\"invoice_key\").cumcount().astype(str)\n",
    ")"
   ]
  },
  {
   "cell_type": "markdown",
   "id": "1d45b6ec",
   "metadata": {},
   "source": [
    "#### Step 4: Verifying Unique Value"
   ]
  },
  {
   "cell_type": "markdown",
   "id": "881a068c",
   "metadata": {},
   "source": [
    "To verify the data, we print the total number of rows using df.shape[0], showing how many records are in the dataset. Then, we count the number of unique invoice keys with df['invoice_key'].nunique(), helping us confirm the uniqueness and completeness of the invoice keys."
   ]
  },
  {
   "cell_type": "code",
   "execution_count": 13,
   "id": "733c3877",
   "metadata": {},
   "outputs": [
    {
     "name": "stdout",
     "output_type": "stream",
     "text": [
      "Total number of rows: 9647\n",
      "Number of unique invoice_key: 9647\n"
     ]
    }
   ],
   "source": [
    "print(f\"Total number of rows: {df.shape[0]}\")\n",
    "print(f\"Number of unique invoice_key: {df['invoice_key'].nunique()}\")\n"
   ]
  },
  {
   "cell_type": "markdown",
   "id": "a6fe87ec",
   "metadata": {},
   "source": [
    "To verify the invoice keys, we display the first 10 values of the invoice_key column using df['invoice_key'].head(10). This helps us quickly check the format and correctness of the generated keys."
   ]
  },
  {
   "cell_type": "code",
   "execution_count": 14,
   "id": "e6834c8f",
   "metadata": {},
   "outputs": [
    {
     "data": {
      "text/plain": [
       "0    F1185732-NY-20200101-M-SF-I005_0\n",
       "1    F1185732-NY-20200102-M-AF-I003_0\n",
       "2    F1185732-NY-20200104-W-AF-I035_0\n",
       "3    F1185732-NY-20200105-M-AP-I003_0\n",
       "4    F1185732-NY-20200106-W-AP-I025_0\n",
       "5    F1185732-NY-20200107-M-SF-I005_0\n",
       "6    F1185732-NY-20200108-M-AF-O003_0\n",
       "7    F1185732-NY-20200121-W-SF-O035_0\n",
       "8    F1185732-NY-20200122-W-AF-O035_0\n",
       "9    F1185732-NY-20200123-M-AP-O003_0\n",
       "Name: invoice_key, dtype: object"
      ]
     },
     "execution_count": 14,
     "metadata": {},
     "output_type": "execute_result"
    }
   ],
   "source": [
    "# Checking 10 invoice_key\n",
    "df['invoice_key'].head(10)"
   ]
  },
  {
   "cell_type": "markdown",
   "id": "840fa081",
   "metadata": {},
   "source": [
    "### B. Expectation: To Be Unique"
   ]
  },
  {
   "cell_type": "markdown",
   "id": "d5f08ac2",
   "metadata": {},
   "source": [
    "This validation ensures that each row in the dataset has a unique identifier. Since invoice_key is a combination of multiple columns intended to uniquely identify transactions, we expect no duplicate values in this column"
   ]
  },
  {
   "cell_type": "code",
   "execution_count": 15,
   "id": "966a2ebe",
   "metadata": {},
   "outputs": [
    {
     "data": {
      "application/vnd.jupyter.widget-view+json": {
       "model_id": "0e9574952ca74cac816971b5b85f5c49",
       "version_major": 2,
       "version_minor": 0
      },
      "text/plain": [
       "Calculating Metrics:   0%|          | 0/8 [00:00<?, ?it/s]"
      ]
     },
     "metadata": {},
     "output_type": "display_data"
    },
    {
     "data": {
      "text/plain": [
       "{\n",
       "  \"success\": true,\n",
       "  \"result\": {\n",
       "    \"element_count\": 9647,\n",
       "    \"unexpected_count\": 0,\n",
       "    \"unexpected_percent\": 0.0,\n",
       "    \"partial_unexpected_list\": [],\n",
       "    \"missing_count\": 0,\n",
       "    \"missing_percent\": 0.0,\n",
       "    \"unexpected_percent_total\": 0.0,\n",
       "    \"unexpected_percent_nonmissing\": 0.0\n",
       "  },\n",
       "  \"meta\": {},\n",
       "  \"exception_info\": {\n",
       "    \"raised_exception\": false,\n",
       "    \"exception_traceback\": null,\n",
       "    \"exception_message\": null\n",
       "  }\n",
       "}"
      ]
     },
     "execution_count": 15,
     "metadata": {},
     "output_type": "execute_result"
    }
   ],
   "source": [
    "# Expectation : Column `invoice_key` must be unique\n",
    "validator.expect_column_values_to_be_unique('invoice_key')"
   ]
  },
  {
   "cell_type": "markdown",
   "id": "2b322a55",
   "metadata": {},
   "source": [
    "The result confirms that the invoice_key column passed the uniqueness check successfully. Out of 9,647 rows, there were no duplicates or missing values, and 100% of the values met the expectation. This means our generated invoice_key is a valid unique identifier for each record in the dataset."
   ]
  },
  {
   "cell_type": "markdown",
   "id": "26e9f1b5",
   "metadata": {},
   "source": [
    "## 4.2. Expectation 2: To Be Between min_value and max_value"
   ]
  },
  {
   "cell_type": "markdown",
   "id": "1bb95823",
   "metadata": {},
   "source": [
    "To ensure that the operating_margin column contains valid values, we apply an expectation that all entries must fall between 0 and 1. A company's operating margin represents how much it earns on every dollar of sales after deducting variable costs but before accounting for interest or taxes. The values are already in decimal form (e.g., 0.25 = 25%), which is a common format in financial analysis. This expectation ensures that the data stays within a realistic and interpretable range for operating profitability.\n",
    "\n",
    "Source: https://www.investopedia.com/terms/n/net_margin.asp#:~:text=Most%20often%2C%20the%20net%20profit,multiplying%20that%20figure%20by%20100."
   ]
  },
  {
   "cell_type": "code",
   "execution_count": 17,
   "id": "bc0fe0c4",
   "metadata": {},
   "outputs": [
    {
     "data": {
      "application/vnd.jupyter.widget-view+json": {
       "model_id": "76786fd8f03744abb2d8270525705a06",
       "version_major": 2,
       "version_minor": 0
      },
      "text/plain": [
       "Calculating Metrics:   0%|          | 0/8 [00:00<?, ?it/s]"
      ]
     },
     "metadata": {},
     "output_type": "display_data"
    },
    {
     "data": {
      "text/plain": [
       "{\n",
       "  \"success\": true,\n",
       "  \"result\": {\n",
       "    \"element_count\": 9647,\n",
       "    \"unexpected_count\": 0,\n",
       "    \"unexpected_percent\": 0.0,\n",
       "    \"partial_unexpected_list\": [],\n",
       "    \"missing_count\": 0,\n",
       "    \"missing_percent\": 0.0,\n",
       "    \"unexpected_percent_total\": 0.0,\n",
       "    \"unexpected_percent_nonmissing\": 0.0\n",
       "  },\n",
       "  \"meta\": {},\n",
       "  \"exception_info\": {\n",
       "    \"raised_exception\": false,\n",
       "    \"exception_traceback\": null,\n",
       "    \"exception_message\": null\n",
       "  }\n",
       "}"
      ]
     },
     "execution_count": 17,
     "metadata": {},
     "output_type": "execute_result"
    }
   ],
   "source": [
    "# Expectation : Column `operating_margin` must be less than 1\n",
    "validator.expect_column_values_to_be_between(\n",
    "    column='operating_margin',\n",
    "    min_value=0,\n",
    "    max_value=1\n",
    ")"
   ]
  },
  {
   "cell_type": "markdown",
   "id": "4bfa3aef",
   "metadata": {},
   "source": [
    "This result confirms that the operating_margin column successfully passed the validation check. All 9,647 values fall between 0 and 1, with no missing or unexpected values. The \"success\": true flag indicates that the data aligns perfectly with the defined expectation, and there were no errors or exceptions during the check."
   ]
  },
  {
   "cell_type": "markdown",
   "id": "2b1dacc7",
   "metadata": {},
   "source": [
    "## 4.3. Expectation 3: To be in set"
   ]
  },
  {
   "cell_type": "markdown",
   "id": "f683d38b",
   "metadata": {},
   "source": [
    "This expectation checks whether every value in the region column belongs to a predefined list of allowed values: ['Northeast', 'South', 'West', 'Midwest', 'Southeast']. It ensures that the data is consistent and that there are no unexpected or misspelled region names. This type of validation is especially useful for categorical data where only a specific set of values should appea"
   ]
  },
  {
   "cell_type": "code",
   "execution_count": 18,
   "id": "8c5edf66",
   "metadata": {},
   "outputs": [
    {
     "data": {
      "application/vnd.jupyter.widget-view+json": {
       "model_id": "8aea0c274bd84cf2aa341e26f523ba7e",
       "version_major": 2,
       "version_minor": 0
      },
      "text/plain": [
       "Calculating Metrics:   0%|          | 0/8 [00:00<?, ?it/s]"
      ]
     },
     "metadata": {},
     "output_type": "display_data"
    },
    {
     "data": {
      "text/plain": [
       "{\n",
       "  \"success\": true,\n",
       "  \"result\": {\n",
       "    \"element_count\": 9647,\n",
       "    \"unexpected_count\": 0,\n",
       "    \"unexpected_percent\": 0.0,\n",
       "    \"partial_unexpected_list\": [],\n",
       "    \"missing_count\": 0,\n",
       "    \"missing_percent\": 0.0,\n",
       "    \"unexpected_percent_total\": 0.0,\n",
       "    \"unexpected_percent_nonmissing\": 0.0\n",
       "  },\n",
       "  \"meta\": {},\n",
       "  \"exception_info\": {\n",
       "    \"raised_exception\": false,\n",
       "    \"exception_traceback\": null,\n",
       "    \"exception_message\": null\n",
       "  }\n",
       "}"
      ]
     },
     "execution_count": 18,
     "metadata": {},
     "output_type": "execute_result"
    }
   ],
   "source": [
    "validator.expect_column_values_to_be_in_set(\n",
    "    column='region',\n",
    "    value_set=['Northeast', 'South', 'West', 'Midwest', 'Southeast']\n",
    ")"
   ]
  },
  {
   "cell_type": "markdown",
   "id": "d83407c9",
   "metadata": {},
   "source": [
    "The validation result shows that **all 9,647 entries** in the `region` column match the expected set of values. There were **no unexpected or missing values**, which confirms that the data is clean and consistent with the defined categories (Northeast, South, West, Midwest, Southeast). This indicates the column meets the expectation successfully without errors or exceptions.\n"
   ]
  },
  {
   "cell_type": "markdown",
   "id": "9e530ed8",
   "metadata": {},
   "source": [
    "## 4.4. Expectations 4: To be in type"
   ]
  },
  {
   "cell_type": "markdown",
   "id": "0113c966",
   "metadata": {},
   "source": [
    "In this expectation, we check whether all values in the price_per_unit column are of a specific data type, which is float64. This ensures that the column contains consistent numerical values, which is important for calculations like pricing analysis or revenue aggregation. By validating the data type, we reduce the risk of errors due to incorrect or mixed data types in downstream processes such as modeling or reporting."
   ]
  },
  {
   "cell_type": "code",
   "execution_count": 19,
   "id": "20e4ddfe",
   "metadata": {},
   "outputs": [
    {
     "data": {
      "application/vnd.jupyter.widget-view+json": {
       "model_id": "58a6c9d59533481c9ce778a85c45098b",
       "version_major": 2,
       "version_minor": 0
      },
      "text/plain": [
       "Calculating Metrics:   0%|          | 0/1 [00:00<?, ?it/s]"
      ]
     },
     "metadata": {},
     "output_type": "display_data"
    },
    {
     "data": {
      "text/plain": [
       "{\n",
       "  \"success\": true,\n",
       "  \"result\": {\n",
       "    \"observed_value\": \"float64\"\n",
       "  },\n",
       "  \"meta\": {},\n",
       "  \"exception_info\": {\n",
       "    \"raised_exception\": false,\n",
       "    \"exception_traceback\": null,\n",
       "    \"exception_message\": null\n",
       "  }\n",
       "}"
      ]
     },
     "execution_count": 19,
     "metadata": {},
     "output_type": "execute_result"
    }
   ],
   "source": [
    "validator.expect_column_values_to_be_of_type(\n",
    "    column='price_per_unit',\n",
    "    type_='float64'\n",
    ")"
   ]
  },
  {
   "cell_type": "markdown",
   "id": "ceae09be",
   "metadata": {},
   "source": [
    "The validation result confirms that the expectation was successful: all values in the `price_per_unit` column are of the expected data type `float64`. The `\"observed_value\"` key indicates the actual data type found, which matches our expectation. No exceptions or errors occurred during the check, ensuring data consistency in this numeric column."
   ]
  },
  {
   "cell_type": "markdown",
   "id": "d24f8765",
   "metadata": {},
   "source": [
    "## 4.5. Expectation 5: Expect Column Values to Not Match "
   ]
  },
  {
   "cell_type": "markdown",
   "id": "5c56fac6",
   "metadata": {},
   "source": [
    "The product column is expected to contain descriptive names of product categories, such as \"Men's Apparel\" or \"Women's Street Footwear.\" Since product names should consist only of text, this expectation ensures that there are no numerical digits present in the values. The presence of digits might indicate data entry errors or inconsistent formatting, so this validation helps maintain the cleanliness and integrity of the product information."
   ]
  },
  {
   "cell_type": "code",
   "execution_count": 20,
   "id": "da2f177a",
   "metadata": {},
   "outputs": [
    {
     "data": {
      "application/vnd.jupyter.widget-view+json": {
       "model_id": "f2c0b173e99c4eff877e0e57ba80c81a",
       "version_major": 2,
       "version_minor": 0
      },
      "text/plain": [
       "Calculating Metrics:   0%|          | 0/8 [00:00<?, ?it/s]"
      ]
     },
     "metadata": {},
     "output_type": "display_data"
    },
    {
     "data": {
      "text/plain": [
       "{\n",
       "  \"success\": true,\n",
       "  \"result\": {\n",
       "    \"element_count\": 9647,\n",
       "    \"unexpected_count\": 0,\n",
       "    \"unexpected_percent\": 0.0,\n",
       "    \"partial_unexpected_list\": [],\n",
       "    \"missing_count\": 0,\n",
       "    \"missing_percent\": 0.0,\n",
       "    \"unexpected_percent_total\": 0.0,\n",
       "    \"unexpected_percent_nonmissing\": 0.0\n",
       "  },\n",
       "  \"meta\": {},\n",
       "  \"exception_info\": {\n",
       "    \"raised_exception\": false,\n",
       "    \"exception_traceback\": null,\n",
       "    \"exception_message\": null\n",
       "  }\n",
       "}"
      ]
     },
     "execution_count": 20,
     "metadata": {},
     "output_type": "execute_result"
    }
   ],
   "source": [
    "validator.expect_column_values_to_not_match_regex(\n",
    "    column='product',\n",
    "    regex=r'\\d'\n",
    ")"
   ]
  },
  {
   "cell_type": "markdown",
   "id": "67a272ff",
   "metadata": {},
   "source": [
    "The expectation was successfully validated across all 9,647 rows. There were no unexpected values, meaning all entries passed the defined rule. Additionally, there were no missing values, and the data is complete and clean in accordance with the applied expectation. This confirms the data quality for the tested column is high."
   ]
  },
  {
   "cell_type": "markdown",
   "id": "3573216b",
   "metadata": {},
   "source": [
    "## 4.6.Expectations 6: Expect Table Column Count to Equal"
   ]
  },
  {
   "cell_type": "markdown",
   "id": "224fcf91",
   "metadata": {},
   "source": [
    "In this expectation, we check whether the total number of columns in our dataset is exactly 15. Originally, the dataset contained 13 columns. During preprocessing, we added two new columns: state_code (mapped from the state column) and invoice_key (a unique identifier composed of multiple column values). This brings the total expected column count to 15.\n",
    "\n",
    "By using:"
   ]
  },
  {
   "cell_type": "code",
   "execution_count": 21,
   "id": "6f533519",
   "metadata": {},
   "outputs": [
    {
     "data": {
      "application/vnd.jupyter.widget-view+json": {
       "model_id": "77f8df851fb647cbbe5e6fe7ff217db2",
       "version_major": 2,
       "version_minor": 0
      },
      "text/plain": [
       "Calculating Metrics:   0%|          | 0/3 [00:00<?, ?it/s]"
      ]
     },
     "metadata": {},
     "output_type": "display_data"
    },
    {
     "data": {
      "text/plain": [
       "{\n",
       "  \"success\": true,\n",
       "  \"result\": {\n",
       "    \"observed_value\": 15\n",
       "  },\n",
       "  \"meta\": {},\n",
       "  \"exception_info\": {\n",
       "    \"raised_exception\": false,\n",
       "    \"exception_traceback\": null,\n",
       "    \"exception_message\": null\n",
       "  }\n",
       "}"
      ]
     },
     "execution_count": 21,
     "metadata": {},
     "output_type": "execute_result"
    }
   ],
   "source": [
    "validator.expect_table_column_count_to_equal(value=15)\n"
   ]
  },
  {
   "cell_type": "markdown",
   "id": "ef2d6851",
   "metadata": {},
   "source": [
    "we ensure that no unexpected columns were added or missing during the preprocessing steps. This helps maintain the integrity and consistency of the dataset schema throughout the data pipeline."
   ]
  },
  {
   "cell_type": "markdown",
   "id": "61007cd5",
   "metadata": {},
   "source": [
    "## 4.7 Expectations 7: Expect Column Value Lengths to Equal"
   ]
  },
  {
   "cell_type": "markdown",
   "id": "3edb2644",
   "metadata": {},
   "source": [
    "In this expectation, we validate that every value in the retailer_id column consists of exactly 7 characters. This ensures that the retailer IDs follow a consistent format, which is important for data integrity, especially when these IDs are used for merging, filtering, or generating unique identifiers like invoice_key.\n"
   ]
  },
  {
   "cell_type": "code",
   "execution_count": 22,
   "id": "4798d635",
   "metadata": {},
   "outputs": [
    {
     "data": {
      "application/vnd.jupyter.widget-view+json": {
       "model_id": "7089ac6b8e714e31a763b09734907b39",
       "version_major": 2,
       "version_minor": 0
      },
      "text/plain": [
       "Calculating Metrics:   0%|          | 0/9 [00:00<?, ?it/s]"
      ]
     },
     "metadata": {},
     "output_type": "display_data"
    },
    {
     "data": {
      "text/plain": [
       "{\n",
       "  \"success\": true,\n",
       "  \"result\": {\n",
       "    \"element_count\": 9647,\n",
       "    \"unexpected_count\": 0,\n",
       "    \"unexpected_percent\": 0.0,\n",
       "    \"partial_unexpected_list\": [],\n",
       "    \"missing_count\": 0,\n",
       "    \"missing_percent\": 0.0,\n",
       "    \"unexpected_percent_total\": 0.0,\n",
       "    \"unexpected_percent_nonmissing\": 0.0\n",
       "  },\n",
       "  \"meta\": {},\n",
       "  \"exception_info\": {\n",
       "    \"raised_exception\": false,\n",
       "    \"exception_traceback\": null,\n",
       "    \"exception_message\": null\n",
       "  }\n",
       "}"
      ]
     },
     "execution_count": 22,
     "metadata": {},
     "output_type": "execute_result"
    }
   ],
   "source": [
    "validator.expect_column_value_lengths_to_equal(\n",
    "    column=\"retailer_id\",\n",
    "    value=7\n",
    ")\n"
   ]
  },
  {
   "cell_type": "markdown",
   "id": "cd55d4d6",
   "metadata": {},
   "source": [
    "In this expectation, we confirmed that all 9,647 values in the retailer_id column meet the requirement of having exactly 7 characters. There are no missing or unexpected values, indicating the data is clean and consistently formatted for reliable downstream use."
   ]
  },
  {
   "cell_type": "markdown",
   "id": "ae3a94fb",
   "metadata": {},
   "source": [
    "# 5. Save Expectation Suite"
   ]
  },
  {
   "cell_type": "markdown",
   "id": "0d4984dd",
   "metadata": {},
   "source": [
    "ChatGPT said:\n",
    "In this step, we save the current set of expectations into an Expectation Suite. By setting discard_failed_expectations=False, we ensure that all expectations are saved, including those that may have failed during validation. This allows for consistent tracking, debugging, and reuse of expectations across different datasets or pipeline runs."
   ]
  },
  {
   "cell_type": "code",
   "execution_count": 23,
   "id": "b4646d9b",
   "metadata": {},
   "outputs": [],
   "source": [
    "# Save into Expectation Suite\n",
    "\n",
    "validator.save_expectation_suite(discard_failed_expectations=False)"
   ]
  },
  {
   "cell_type": "markdown",
   "id": "ced20263",
   "metadata": {},
   "source": [
    "# 6. Checkpoint"
   ]
  },
  {
   "cell_type": "markdown",
   "id": "5288d181",
   "metadata": {},
   "source": [
    "In this step, we create a checkpoint named 'checkpoint_1' to bundle the Expectation Suite with the data context and validator. This checkpoint allows us to run validations in a structured and reusable way, making it easier to monitor data quality across pipeline executions."
   ]
  },
  {
   "cell_type": "code",
   "execution_count": 24,
   "id": "d0e46a24",
   "metadata": {},
   "outputs": [],
   "source": [
    "# Create a checkpoint\n",
    "\n",
    "checkpoint_1 = context.add_or_update_checkpoint(\n",
    "    name = 'checkpoint_1',\n",
    "    validator = validator,\n",
    ")"
   ]
  },
  {
   "cell_type": "markdown",
   "id": "92f9056d",
   "metadata": {},
   "source": [
    "\n",
    "In this step, we run the validate() method to execute all expectations in the suite against the current dataset. The result is stored in validation_result, which contains detailed information about whether the data meets the defined expectations, including success status, counts of unexpected or missing values, and any errors encountered during validation."
   ]
  },
  {
   "cell_type": "code",
   "execution_count": 25,
   "id": "33357ee8",
   "metadata": {},
   "outputs": [
    {
     "data": {
      "application/vnd.jupyter.widget-view+json": {
       "model_id": "bc1f37a153564a8ba1e8805029751610",
       "version_major": 2,
       "version_minor": 0
      },
      "text/plain": [
       "Calculating Metrics:   0%|          | 0/30 [00:00<?, ?it/s]"
      ]
     },
     "metadata": {},
     "output_type": "display_data"
    }
   ],
   "source": [
    "validation_result = validator.validate()"
   ]
  },
  {
   "cell_type": "markdown",
   "id": "780e283c",
   "metadata": {},
   "source": [
    "The value of validation_result[\"success\"] shows whether the data passed the checks:\n",
    "\n",
    "- True means all checks passed.\n",
    "\n",
    "- False means at least one check failed.\n",
    "\n",
    "This helps quickly show if the data follows the expected rules."
   ]
  },
  {
   "cell_type": "code",
   "execution_count": 26,
   "id": "a4f7b3c0",
   "metadata": {},
   "outputs": [
    {
     "data": {
      "text/plain": [
       "True"
      ]
     },
     "execution_count": 26,
     "metadata": {},
     "output_type": "execute_result"
    }
   ],
   "source": [
    "validation_result[\"success\"]"
   ]
  },
  {
   "cell_type": "markdown",
   "id": "89019695",
   "metadata": {},
   "source": [
    "All data checks passed successfully. The dataset meets all the rules or expectations that were defined."
   ]
  },
  {
   "cell_type": "markdown",
   "id": "a69d79fd",
   "metadata": {},
   "source": [
    "Lastly, we're going to create a report (in HTML format) that shows the results of the data checks. The report makes it easier to see which checks passed and which ones failed."
   ]
  },
  {
   "cell_type": "code",
   "execution_count": 27,
   "id": "081c45bc",
   "metadata": {},
   "outputs": [
    {
     "data": {
      "text/plain": [
       "{'local_site': 'file:///Users/nugrahani/p2-ftds029-hck-m3-aulianugrahani/gx/uncommitted/data_docs/local_site/index.html'}"
      ]
     },
     "execution_count": 27,
     "metadata": {},
     "output_type": "execute_result"
    }
   ],
   "source": [
    "# Build data docs\n",
    "\n",
    "context.build_data_docs()"
   ]
  }
 ],
 "metadata": {
  "kernelspec": {
   "display_name": "base",
   "language": "python",
   "name": "python3"
  },
  "language_info": {
   "codemirror_mode": {
    "name": "ipython",
    "version": 3
   },
   "file_extension": ".py",
   "mimetype": "text/x-python",
   "name": "python",
   "nbconvert_exporter": "python",
   "pygments_lexer": "ipython3",
   "version": "3.12.2"
  }
 },
 "nbformat": 4,
 "nbformat_minor": 5
}
